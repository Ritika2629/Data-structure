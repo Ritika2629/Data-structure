{
  "cells": [
    {
      "cell_type": "markdown",
      "source": [
        "#Python basic module 2\n"
      ],
      "metadata": {
        "id": "rBi2T-zd3QIt"
      }
    },
    {
      "cell_type": "markdown",
      "source": [
        "#1. What are data structures, and why are they important ?"
      ],
      "metadata": {
        "id": "Wjv0hyWC-cTR"
      }
    },
    {
      "cell_type": "code",
      "source": [
        "Data structures are organized ways to store, manage, and manipulate data efficiently in a computer so that it can be accessed and modified effectively.They provide a means to handle data in a structured format that aligns with specific operations, making it easier to perform tasks such as searching, sorting, or modifying data.\n",
        "\n",
        "#Types of Data Structures:\n",
        "1.Linear Data Structures:\n",
        "\n",
        "- Data is organized in a sequential manner.\n",
        "- Examples: Arrays, Linked Lists, Stacks, Queues.\n",
        "2.Non-Linear Data Structures:\n",
        "\n",
        "- Data is organized in a hierarchical or interconnected manner.\n",
        "- Examples: Trees, Graphs.\n",
        "3.Hash-based Data Structures:\n",
        "\n",
        "- Data is organized using hash functions.\n",
        "- Examples: Hash Tables, Hash Maps, Sets.\n",
        "4.Other Types:\n",
        "\n",
        "- Specialized structures like Heaps, Tries, and Bloom Filters.\n",
        "#Why are Data Structures Important?\n",
        "1.Efficient Data Management:\n",
        "\n",
        "- Data structures allow storing and retrieving data in ways that optimize space and time. For instance, searching for an element in a balanced binary search tree is faster than scanning an unsorted array.\n",
        "2.Improved Algorithm Performance:\n",
        "\n",
        "- The choice of a data structure directly affects the efficiency of algorithms. For example, a priority queue implemented with a heap is more efficient for certain operations than an array.\n",
        "3.Solving Complex Problems:\n",
        "\n",
        "- Data structures are fundamental in tackling problems that involve complex relationships or constraints, such as route optimization (graphs) or hierarchical data (trees).\n",
        "4.Code Reusability and Modularity:\n",
        "\n",
        "- Abstract data types (ADTs) like stacks, queues, and dictionaries help create reusable, modular, and maintainable code.\n",
        "5.Scalability:\n",
        "\n",
        "- Well-chosen data structures allow systems to handle larger data volumes without significant degradation in performance.\n",
        "6.Facilitating Real-world Applications:\n",
        "\n",
        "- Data structures are integral to applications like databases (B-trees for indexing), networking (graphs for routing), and artificial intelligence (neural networks, decision trees).\n",
        "#Examples of Data Structure Importance:\n",
        "1.Searching in a Database:\n",
        "\n",
        "- Using a hash table or B-tree significantly reduces the time it takes to retrieve information compared to a linear search.\n",
        "2.Social Network Connections:\n",
        "\n",
        "- Graphs represent relationships between users, where nodes are users and edges represent connections.\n",
        "3.Web Page Caching:\n",
        "\n",
        "- Linked lists combined with hash maps are often used in Least Recently Used (LRU) cache implementations.\n",
        "4.Pathfinding in Games:\n",
        "\n",
        "- Trees or graphs are used to calculate efficient paths for characters or objects.\n",
        "#Conclusion:\n",
        "Data structures are the backbone of efficient programming and play a crucial role in solving computational problems effectively. Understanding them is fundamental for writing optimized, scalable, and robust code.\n"
      ],
      "metadata": {
        "id": "82f0Xe404SRm"
      },
      "execution_count": null,
      "outputs": []
    },
    {
      "cell_type": "markdown",
      "source": [
        "#2. Explain the difference between mutable and immutable data types with examples ?"
      ],
      "metadata": {
        "id": "N-XcamEz-vAA"
      }
    },
    {
      "cell_type": "code",
      "source": [
        "In Python, mutable and immutable data types determine whether or not the value of an object can be modified after it is created.\n",
        "\n",
        "1. Mutable Data Types:\n",
        "- Definition: Mutable objects can be changed (modified) after they are created.\n",
        "- Examples: Lists, Dictionaries, Sets, User-defined objects.\n",
        "#Example of a Mutable Data Type (List):\n",
        "# Mutable: List\n",
        "my_list = [1, 2, 3]\n",
        "print(\"Original List:\", my_list)\n",
        "\n",
        "# Modifying the list\n",
        "my_list[1] = 42\n",
        "print(\"Modified List:\", my_list)\n",
        "\n",
        "# Adding an element to the list\n",
        "my_list.append(100)\n",
        "print(\"Appended List:\", my_list)\n",
        "\n",
        "#Output:\n",
        "\n",
        "less\n",
        "Original List: [1, 2, 3]\n",
        "Modified List: [1, 42, 3]\n",
        "Appended List: [1, 42, 3, 100]\n",
        "\n",
        "2. Immutable Data Types:\n",
        "- Definition: Immutable objects cannot be changed after they are created. Any operation that seems to modify an immutable object actually creates a new object.\n",
        "- Examples: Strings, Tuples, Integers, Floats, Booleans.\n",
        "#Example of an Immutable Data Type (String):\n",
        "\n",
        "# Immutable: String\n",
        "my_string = \"Hello\"\n",
        "print(\"Original String:\", my_string)\n",
        "\n",
        "# Trying to modify the string\n",
        "new_string = my_string.replace(\"H\", \"J\")\n",
        "print(\"Modified String:\", new_string)\n",
        "print(\"Original String remains unchanged:\", my_string)\n",
        "Output:\n",
        "\n",
        "arduino\n",
        "\n",
        "Original String: Hello\n",
        "Modified String: Jello\n",
        "Original String remains unchanged: Hello\n",
        "#Key Differences:\n",
        "\n",
        "Aspect\t        Mutable Data Types\t                          Immutable Data Types\n",
        "\n",
        "Changeable\t  Can be changed after creation.\t               Cannot be changed after creation.\n",
        "Memory\t      Modifications affect the same object.\t         A new object is created for modifications.\n",
        "Examples\t    Lists, Dictionaries, Sets.\t                   Strings, Tuples, Integers, Floats.\n",
        "Use Cases\t    Use when frequent modifications are needed.\t   Use when data integrity must be preserved.\n",
        "#Behavior Example: Mutable vs Immutable\n",
        "python\n",
        "\n",
        "# Mutable Example\n",
        "mutable_list = [1, 2, 3]\n",
        "print(\"Before modification:\", mutable_list)\n",
        "mutable_list[0] = 10\n",
        "print(\"After modification:\", mutable_list)\n",
        "\n",
        "# Immutable Example\n",
        "immutable_tuple = (1, 2, 3)\n",
        "print(\"Before modification:\", immutable_tuple)\n",
        "try:\n",
        "    immutable_tuple[0] = 10  # This will raise an error\n",
        "except TypeError as e:\n",
        "    print(\"Error:\", e)\n",
        "#Output:\n",
        "\n",
        "yaml\n",
        "\n",
        "Before modification: [1, 2, 3]\n",
        "After modification: [10, 2, 3]\n",
        "Before modification: (1, 2, 3)\n",
        "Error: 'tuple' object does not support item assignment\n",
        "\n",
        "\n",
        "#Conclusion:\n",
        "- Mutable objects allow in-place modifications, making them useful for dynamic operations like list building or dictionary updates.\n",
        "- Immutable objects are safer for ensuring data consistency and are often used as keys in dictionaries or for data that should not change during execution."
      ],
      "metadata": {
        "id": "QWiCH0d9-2xh"
      },
      "execution_count": null,
      "outputs": []
    },
    {
      "cell_type": "markdown",
      "source": [
        "#3.What are the main differences between lists and tuples in Python ?"
      ],
      "metadata": {
        "id": "obxCYcBOBq2v"
      }
    },
    {
      "cell_type": "code",
      "source": [
        "#Main Differences Between Lists and Tuples in Python\n",
        "\n",
        "Aspect\t               List\t                                                              Tuple\n",
        "\n",
        "Definition\t       A mutable, ordered collection of items.\t                          An immutable, ordered collection of items.\n",
        "Mutability\t       Lists are mutable: elements can be changed, added, or removed.\t    Tuples are immutable: elements cannot be changed after creation.\n",
        "Syntax\t           Defined using square brackets [ ].\t                                Defined using parentheses ( ).\n",
        "Performance\t       Lists are slower due to mutability overhead.\t                      Tuples are faster because they are immutable.\n",
        "Use Case\t         Used for collections of items that may need to change.\t            Used for fixed collections of items.\n",
        "Memory Usage\t     Takes more memory due to extra overhead for dynamic operations.\t  More memory efficient because they are static.\n",
        "Methods Available\t Lists have more methods (e.g., append, remove, sort).\t            Tuples have fewer methods (e.g., count, index).\n",
        "Hashability\t       Lists are not hashable and cannot be used as dictionary keys.\t    Tuples are hashable (if their elements are hashable) and can be used as dictionary keys.\n",
        "#Examples:\n",
        "1.Mutability:\n",
        "python\n",
        "\n",
        "# List (Mutable)\n",
        "my_list = [1, 2, 3]\n",
        "print(\"Original List:\", my_list)\n",
        "my_list[1] = 42\n",
        "print(\"Modified List:\", my_list)\n",
        "\n",
        "# Tuple (Immutable)\n",
        "my_tuple = (1, 2, 3)\n",
        "print(\"Original Tuple:\", my_tuple)\n",
        "try:\n",
        "    my_tuple[1] = 42  # Attempting to modify a tuple raises an error\n",
        "except TypeError as e:\n",
        "    print(\"Error:\", e)\n",
        "#Output:\n",
        "\n",
        "yaml\n",
        "\n",
        "Original List: [1, 2, 3]\n",
        "Modified List: [1, 42, 3]\n",
        "Original Tuple: (1, 2, 3)\n",
        "Error: 'tuple' object does not support item assignment\n",
        "\n",
        "2.Syntax:\n",
        "python\n",
        "\n",
        "# List\n",
        "my_list = [1, 2, 3]\n",
        "print(\"List:\", my_list)\n",
        "\n",
        "# Tuple\n",
        "my_tuple = (1, 2, 3)\n",
        "print(\"Tuple:\", my_tuple)\n",
        "\n",
        "3.Hashability:\n",
        "python\n",
        "\n",
        "# List (Not hashable)\n",
        "my_list = [1, 2, 3]\n",
        "try:\n",
        "    my_dict = {my_list: \"value\"}  # This will raise an error\n",
        "except TypeError as e:\n",
        "    print(\"Error:\", e)\n",
        "\n",
        "# Tuple (Hashable)\n",
        "my_tuple = (1, 2, 3)\n",
        "my_dict = {my_tuple: \"value\"}\n",
        "print(\"Dictionary with tuple as key:\", my_dict)\n",
        "#Output:\n",
        "\n",
        "python\n",
        "\n",
        "Error: unhashable type: 'list'\n",
        "Dictionary with tuple as key: {(1, 2, 3): 'value'}\n",
        "\n",
        "#Key Takeaways:\n",
        "- Use lists when you need a collection that can be modified dynamically.\n",
        "- Use tuples when you need a fixed, immutable collection, such as dictionary keys or ensuring data consistency."
      ],
      "metadata": {
        "id": "5VSNqX6PB_YC"
      },
      "execution_count": null,
      "outputs": []
    },
    {
      "cell_type": "markdown",
      "source": [
        "#4.Describe how dictionaries store data ?\n"
      ],
      "metadata": {
        "id": "bgkbg1zHEu4W"
      }
    },
    {
      "cell_type": "code",
      "source": [
        "#How Dictionaries Store Data in Python\n",
        "In Python, dictionaries are powerful, mutable data structures that store data as key-value pairs. Here’s how they work:\n",
        "\n",
        "1. Underlying Data Structure: Hash Table\n",
        "- Dictionaries are implemented as hash tables, which allow for fast retrieval, insertion, and deletion of elements.\n",
        "- Keys in a dictionary are hashed to compute an index in an internal array where the value is stored.\n",
        "2. Key Characteristics of Dictionaries:\n",
        "- Keys:\n",
        "- Must be unique and immutable (e.g., strings, numbers, tuples with immutable elements).\n",
        "- Keys are hashed using a hash function to determine their storage location.\n",
        "- Values:\n",
        "- Can be of any data type (mutable or immutable).\n",
        "- Values are not constrained by uniqueness or immutability.\n",
        "3. How Data is Stored:\n",
        "  1.Hashing the Key:\n",
        "\n",
        "  - The key is passed through a hash function, which generates a unique hash code (an integer).\n",
        "  - This hash code determines the index in the internal array where the key-value pair will be stored.\n",
        "  2.Collision Resolution:\n",
        "\n",
        "  - If two keys generate the same hash (a collision), the dictionary uses techniques like open addressing or chaining to resolve it.\n",
        "  - In Python, collisions are managed efficiently using a method akin to open addressing with probing.\n",
        "  3.Dynamic Resizing:\n",
        "\n",
        "  - The internal array size grows dynamically as the dictionary fills up, maintaining an efficient load factor for fast operations.\n",
        "4. Operations in Dictionaries:\n",
        "- Insertion:\n",
        "  - The hash of the key determines where the key-value pair is stored in the hash table.\n",
        "- Retrieval:\n",
        "  - The key’s hash is recalculated to quickly locate the value in the hash table.\n",
        "- Deletion:\n",
        "  - The key-value pair is removed, and the hash table may reorganize itself to fill gaps.\n",
        "5. Example of Dictionary Storage Mechanism:\n",
        "python\n",
        "\n",
        "# Create a dictionary\n",
        "my_dict = {\"name\": \"Alice\", \"age\": 25, \"city\": \"New York\"}\n",
        "\n",
        "# Accessing a value\n",
        "print(my_dict[\"name\"])  # \"Alice\"\n",
        "\n",
        "# Adding a new key-value pair\n",
        "my_dict[\"country\"] = \"USA\"\n",
        "print(my_dict)\n",
        "\n",
        "# Deleting a key-value pair\n",
        "del my_dict[\"age\"]\n",
        "print(my_dict)\n",
        "\n",
        "#Behind the scenes:\n",
        "\n",
        "1.When my_dict[\"name\"] is accessed:\n",
        "  - The key \"name\" is hashed, and the hash code is used to find the corresponding index in the hash table.\n",
        "  - The value \"Alice\" is retrieved from the index.\n",
        "2.When my_dict[\"country\"] = \"USA\" is added:\n",
        "  - The key \"country\" is hashed, and the hash code determines the storage index.\n",
        "6. Advantages of Dictionaries:\n",
        "  - Fast Lookup: Dictionary operations (get, set, delete) have an average time complexity of O(1) due to hashing.\n",
        "  - Flexible Storage: Keys and values can be of different types.\n",
        "  - Dynamic Sizing: Automatically adjusts size to maintain performance.\n",
        "\n",
        "#Key Takeaways:\n",
        " - Dictionaries are based on hash tables.\n",
        " - They provide efficient access to data using unique keys.\n",
        " - Their design allows for flexibility, fast operations, and dynamic resizing."
      ],
      "metadata": {
        "id": "vcgBpu8TGsHu"
      },
      "execution_count": null,
      "outputs": []
    },
    {
      "cell_type": "markdown",
      "source": [
        "#5.Why might you use a set instead of a list in Python ?"
      ],
      "metadata": {
        "id": "trSF4vecKOpj"
      }
    },
    {
      "cell_type": "code",
      "source": [
        "In Python, both sets and lists are collections used to store multiple items, but their features and behaviors differ significantly. You might choose a set over a list in specific scenarios for the following reasons:\n",
        "\n",
        "1. Ensuring Unique Elements\n",
        "- Set Behavior: Sets automatically eliminate duplicate elements.\n",
        "- List Behavior: Lists allow duplicates, so manual checks are needed to ensure uniqueness.\n",
        "#Example:\n",
        "python\n",
        "\n",
        "# Using a list\n",
        "my_list = [1, 2, 2, 3, 4, 4]\n",
        "unique_list = list(set(my_list))  # Convert to a set and back to a list for uniqueness\n",
        "print(\"Unique elements (list):\", unique_list)\n",
        "\n",
        "# Using a set\n",
        "my_set = {1, 2, 2, 3, 4, 4}  # Duplicates are removed automatically\n",
        "print(\"Unique elements (set):\", my_set)\n",
        "\n",
        "#Output:\n",
        "sql\n",
        "\n",
        "Unique elements (list): [1, 2, 3, 4]\n",
        "Unique elements (set): {1, 2, 3, 4}\n",
        "\n",
        "2. Faster Membership Testing\n",
        "- Set Behavior: Checking if an element exists in a set is much faster (O(1) average time complexity) due to its hash-based implementation.\n",
        "- List Behavior: Membership tests in a list have linear time complexity (O(n)).\n",
        "#Example:\n",
        "python\n",
        "\n",
        "my_list = [1, 2, 3, 4, 5]\n",
        "my_set = {1, 2, 3, 4, 5}\n",
        "\n",
        "# Membership test\n",
        "print(3 in my_list)  # Slower for large lists\n",
        "print(3 in my_set)   # Faster for large sets\n",
        "\n",
        "3. Set Operations (Mathematical Operations)\n",
        "- Sets support operations like union, intersection, difference, and symmetric difference, which are not directly supported by lists.\n",
        "- These operations are useful for tasks involving comparisons or relationships between collections.\n",
        "#Example:\n",
        "python\n",
        "\n",
        "set_a = {1, 2, 3}\n",
        "set_b = {3, 4, 5}\n",
        "\n",
        "# Union\n",
        "print(\"Union:\", set_a | set_b)\n",
        "\n",
        "# Intersection\n",
        "print(\"Intersection:\", set_a & set_b)\n",
        "\n",
        "# Difference\n",
        "print(\"Difference:\", set_a - set_b)\n",
        "\n",
        "Output:\n",
        "css\n",
        "\n",
        "Union: {1, 2, 3, 4, 5}\n",
        "Intersection: {3}\n",
        "Difference: {1, 2}\n",
        "\n",
        "4. Improved Performance with Large Datasets\n",
        "- Sets are optimized for performance in operations like removing duplicates or testing membership, making them ideal for large datasets where speed is critical.\n",
        "#Example:\n",
        "python\n",
        "\n",
        "import time\n",
        "\n",
        "large_list = list(range(1000000))\n",
        "large_set = set(range(1000000))\n",
        "\n",
        "# Membership test\n",
        "start = time.time()\n",
        "999999 in large_list\n",
        "print(\"List membership test:\", time.time() - start)\n",
        "\n",
        "start = time.time()\n",
        "999999 in large_set\n",
        "print(\"Set membership test:\", time.time() - start)\n",
        "\n",
        "5. No Order Guarantees\n",
        "- Set Behavior: Sets are unordered, meaning the elements do not have a specific order, and indexing is not supported.\n",
        "- List Behavior: Lists maintain the order of elements, making them suitable for use cases requiring sequential data.\n",
        "#Example:\n",
        "python\n",
        "\n",
        "# List preserves order\n",
        "my_list = [3, 1, 4, 1, 5]\n",
        "print(\"List:\", my_list)\n",
        "\n",
        "# Set does not preserve order\n",
        "my_set = {3, 1, 4, 1, 5}\n",
        "print(\"Set:\", my_set)\n",
        "\n",
        "Output:\n",
        "makefile\n",
        "\n",
        "List: [3, 1, 4, 1, 5]\n",
        "Set: {1, 3, 4, 5}\n",
        "#When to Use a Set Instead of a List:\n",
        "- When uniqueness of elements is required.\n",
        "- When membership tests need to be fast.\n",
        "- When you need to perform set operations like union, intersection, or difference.\n",
        "- When the order of elements is irrelevant.\n",
        "# When to Use a List Instead of a Set:\n",
        "- When duplicates are allowed.\n",
        "- When you need to maintain the order of elements.\n",
        "- When indexing or slicing is required.\n"
      ],
      "metadata": {
        "id": "vbdJNfIFKmL6"
      },
      "execution_count": null,
      "outputs": []
    },
    {
      "cell_type": "markdown",
      "source": [
        "#6.What is a string in Python, and how is it different from a list ?"
      ],
      "metadata": {
        "id": "mKwaDK-XMlhp"
      }
    },
    {
      "cell_type": "code",
      "source": [
        "- A string in Python is a sequence of characters enclosed in either single quotes ('), double quotes (\"), or triple quotes (''' or \"\"\" for multiline strings).\n",
        "- Strings are immutable, meaning once they are created, their contents cannot be changed.\n",
        "#Example:\n",
        "python\n",
        "\n",
        "# Defining a string\n",
        "my_string = \"Hello, Python!\"\n",
        "print(my_string)\n",
        "\n",
        "#How is a String Different from a List?\n",
        "\n",
        "Aspect\t                String\t                                                  List\n",
        "\n",
        "Definition\t    A sequence of characters.\t                                       A sequence of elements that can be of any type.\n",
        "Mutability\t    Immutable (cannot be changed).\t                                 Mutable (elements can be added, removed, or modified).\n",
        "Data            Type\tContains only characters (or single data type).\t           Can contain elements of mixed types (e.g., numbers, strings, other lists).\n",
        "Syntax\t        Defined using quotes (', \", ''').\t                               Defined using square brackets ([ ]).\n",
        "Element Access\tAccessed like a list using indices.\t                             Accessed using indices or slicing.\n",
        "Modification\t  Cannot modify the string directly.\t                             Can modify, add, or remove elements.\n",
        "Operations\t    Supports string-specific methods (e.g., lower, split).\t         Supports list-specific methods (e.g., append, remove).\n",
        "Usage\t          Used for text data.\t                                             Used for collections of items.\n",
        "\n",
        "#Examples:\n",
        "1. Accessing Elements\n",
        "Both strings and lists allow indexing and slicing.\n",
        "\n",
        "python\n",
        "\n",
        "# String\n",
        "my_string = \"Python\"\n",
        "print(my_string[0])  # 'P'\n",
        "print(my_string[1:4])  # 'yth'\n",
        "\n",
        "# List\n",
        "my_list = [10, 20, 30, 40]\n",
        "print(my_list[0])  # 10\n",
        "print(my_list[1:3])  # [20, 30]\n",
        "\n",
        "2. Mutability\n",
        "Strings cannot be modified in place, but lists can.\n",
        "\n",
        "python\n",
        "\n",
        "# String (Immutable)\n",
        "my_string = \"Hello\"\n",
        "try:\n",
        "    my_string[0] = \"h\"  # This will raise an error\n",
        "except TypeError as e:\n",
        "    print(\"Error:\", e)\n",
        "\n",
        "# List (Mutable)\n",
        "my_list = [1, 2, 3]\n",
        "my_list[0] = 10  # Modifies the list in place\n",
        "print(my_list)\n",
        "\n",
        "Output:\n",
        "\n",
        "csharp\n",
        "\n",
        "Error: 'str' object does not support item assignment\n",
        "[10, 2, 3]\n",
        "\n",
        "3. Methods\n",
        "Strings and lists have different built-in methods.\n",
        "\n",
        "python\n",
        "\n",
        "# String methods\n",
        "my_string = \"hello\"\n",
        "print(my_string.upper())  # Converts to uppercase: 'HELLO'\n",
        "\n",
        "# List methods\n",
        "my_list = [1, 2, 3]\n",
        "my_list.append(4)  # Adds an element to the list\n",
        "print(my_list)\n",
        "Output:\n",
        "\n",
        "csharp\n",
        "\n",
        "HELLO\n",
        "[1, 2, 3, 4]\n",
        "\n",
        "4. Mixed Data Types\n",
        "Lists can contain elements of different data types, but strings cannot.\n",
        "\n",
        "python\n",
        "Copy code\n",
        "# String\n",
        "my_string = \"123\"  # Only characters\n",
        "\n",
        "# List\n",
        "my_list = [1, \"hello\", 3.14]  # Mixed data types\n",
        "print(my_list)\n",
        "Output:\n",
        "\n",
        "css\n",
        "Copy code\n",
        "[1, 'hello', 3.14]\n",
        "\n",
        "#Key Takeaways\n",
        "- Strings are immutable, while lists are mutable.\n",
        "- Strings are specialized for text manipulation, while lists are general-purpose containers for any data type.\n",
        "- Use strings when working with textual data and lists when working with collections of items."
      ],
      "metadata": {
        "id": "fQ4Hq4HucgGo"
      },
      "execution_count": null,
      "outputs": []
    },
    {
      "cell_type": "markdown",
      "source": [
        "#7.How do tuples ensure data integrity in Python ?"
      ],
      "metadata": {
        "id": "0U_DlFFJffBj"
      }
    },
    {
      "cell_type": "code",
      "source": [
        "Tuples in Python ensure data integrity primarily through immutability. Here's how they achieve this:\n",
        "\n",
        "1. Immutability\n",
        "- Once a tuple is created, its elements cannot be modified, added, or removed. This immutability ensures that the data remains consistent and prevents accidental changes during program execution.\n",
        "- For example:\n",
        "python\n",
        "Copy code\n",
        "my_tuple = (1, 2, 3)\n",
        "# Trying to modify an element will result in an error\n",
        "my_tuple[0] = 10  # TypeError: 'tuple' object does not support item assignment\n",
        "\n",
        "2. Hashability\n",
        "- Tuples, when they contain only hashable elements (like strings, numbers, or other tuples), can be used as keys in dictionaries or stored in sets.\n",
        "- This property guarantees that the tuple's value will remain constant, preserving the integrity of the data in contexts where uniqueness or consistent identification is required.\n",
        "\n",
        "3. Data Grouping\n",
        "- Tuples are ideal for grouping related data that should stay together and remain unaltered. For example, coordinates (x, y), RGB color values (255, 255, 255), or a database record can be stored as tuples to ensure their logical grouping and immutability.\n",
        "\n",
        "4. Predictable Behavior\n",
        "- The fixed nature of tuples ensures predictable behavior in code. When a tuple is passed to a function or shared across different parts of a program, you can be confident that its contents won’t be altered.\n",
        "\n",
        "5. Intentional Design\n",
        "- Using tuples conveys the programmer's intent that the data should not change, enhancing code readability and reducing the likelihood of bugs.\n",
        "\n",
        "In summary, tuples ensure data integrity by being immutable and hashable, making them reliable containers for unchangeable data and an excellent choice for scenarios where consistency is paramount."
      ],
      "metadata": {
        "id": "fTYkHgfbfrQL"
      },
      "execution_count": null,
      "outputs": []
    },
    {
      "cell_type": "markdown",
      "source": [
        "#8.What is a hash table, and how does it relate to dictionaries in Python ?"
      ],
      "metadata": {
        "id": "8RFxV20bheu-"
      }
    },
    {
      "cell_type": "code",
      "source": [
        "A hash table is a data structure that provides an efficient way to store and retrieve data using key-value pairs. It achieves this efficiency through the use of a hash function, which maps keys to specific indices in an underlying array (or \"buckets\").\n",
        "\n",
        "#Key Concepts of a Hash Table\n",
        "1.Hash Function:\n",
        "\n",
        "   - A hash function takes a key as input and produces a numerical value (a \"hash\"), which determines where the corresponding value is stored in the hash table.\n",
        "    - Example:\n",
        "python\n",
        "Copy code\n",
        "hash(\"key\")  # Produces a hash value\n",
        "\n",
        "2.Buckets:\n",
        "\n",
        "  - The hash table uses the hash value to identify a bucket (or slot) where the key-value pair is stored.\n",
        "\n",
        "3.Collisions:\n",
        "\n",
        "  - Different keys might produce the same hash value (a collision). Hash tables handle collisions using techniques like:\n",
        "  - Chaining: Storing multiple key-value pairs in the same bucket as a linked list or similar structure.\n",
        "  - Open Addressing: Finding another available bucket through probing.\n",
        "\n",
        "4.Efficiency:\n",
        "\n",
        "  - Hash tables offer average-case O(1) time complexity for insertions, deletions, and lookups, making them highly efficient for many applications.\n",
        "\n",
        "#How Hash Tables Relate to Dictionaries in Python\n",
        "In Python, dictionaries are implemented as hash tables. Here's how:\n",
        "\n",
        "1.Key-Value Storage:\n",
        "\n",
        "  - A dictionary is a collection of key-value pairs where each key is hashed to determine where the corresponding value is stored in memory.\n",
        "python\n",
        "Copy code\n",
        "my_dict = {\"name\": \"Alice\", \"age\": 30}\n",
        "print(my_dict[\"name\"])  # Hashes \"name\" to find the value \"Alice\"\n",
        "\n",
        "2.Hash Function:\n",
        "\n",
        "  - Python uses a built-in hash function (hash()) to compute hash values for keys.\n",
        "  - Keys in a dictionary must be hashable (i.e., have a consistent hash value and be immutable).\n",
        "\n",
        "3.Collision Handling:\n",
        "\n",
        "  - Python dictionaries use a sophisticated mechanism to handle collisions and ensure efficient lookups even in cases where many keys produce the same hash value.\n",
        "\n",
        "4.Dynamic Resizing:\n",
        "\n",
        "  - Python dictionaries dynamically resize and rehash when the number of elements grows, maintaining efficient performance.\n",
        "\n",
        "#Key Features of Dictionaries as Hash Tables\n",
        "- Fast Lookups: Retrieving a value by its key is highly efficient, thanks to the underlying hash table.\n",
        "- Mutable: Dictionaries allow adding, updating, and deleting key-value pairs.\n",
        "- Flexible: Keys can be of any immutable and hashable type, such as strings, numbers, or tuples.\n",
        "\n",
        "#Example:\n",
        "python\n",
        "Copy code\n",
        "my_dict = {\"apple\": 3, \"banana\": 5, \"cherry\": 7}\n",
        "\n",
        "# Adding a key-value pair\n",
        "my_dict[\"date\"] = 9\n",
        "\n",
        "# Accessing a value\n",
        "print(my_dict[\"apple\"])  # Output: 3\n",
        "\n",
        "# Deleting a key-value pair\n",
        "del my_dict[\"banana\"]\n",
        "In this example, the dictionary uses a hash table to store and retrieve the data efficiently.\n",
        "\n",
        "#Summary\n",
        "- A hash table is the data structure behind Python's dictionary.\n",
        "- It provides fast and efficient storage and retrieval of key-value pairs using hashing.\n",
        "- Dictionaries inherit the key advantages of hash tables, such as average-case O(1) time complexity for key-based operations."
      ],
      "metadata": {
        "id": "LRbQM3l5h0m7"
      },
      "execution_count": null,
      "outputs": []
    },
    {
      "cell_type": "markdown",
      "source": [
        "#9.Can lists contain different data types in Python ?"
      ],
      "metadata": {
        "id": "1ny-3sEAj-lb"
      }
    },
    {
      "cell_type": "code",
      "source": [
        "A hash table is a data structure that provides an efficient way to store and retrieve data using key-value pairs. It achieves this efficiency through the use of a hash function, which maps keys to specific indices in an underlying array (or \"buckets\").\n",
        "\n",
        "#Key Concepts of a Hash Table\n",
        "1.Hash Function:\n",
        "\n",
        "- A hash function takes a key as input and produces a numerical value (a \"hash\"), which determines where the corresponding value is stored in the hash table.\n",
        "- Example:\n",
        "python\n",
        "Copy code\n",
        "hash(\"key\")  # Produces a hash value\n",
        "\n",
        "2.Buckets:\n",
        "\n",
        "- The hash table uses the hash value to identify a bucket (or slot) where the key-value pair is stored.\n",
        "\n",
        "3.Collisions:\n",
        "\n",
        "- Different keys might produce the same hash value (a collision). Hash tables handle collisions using techniques like:\n",
        "- Chaining: Storing multiple key-value pairs in the same bucket as a linked list or similar structure.\n",
        "- Open Addressing: Finding another available bucket through probing.\n",
        "\n",
        "4.Efficiency:\n",
        "\n",
        "- Hash tables offer average-case O(1) time complexity for insertions, deletions, and lookups, making them highly efficient for many applications.\n",
        "#How Hash Tables Relate to Dictionaries in Python\n",
        "In Python, dictionaries are implemented as hash tables. Here's how:\n",
        "\n",
        "1.Key-Value Storage:\n",
        "\n",
        "- A dictionary is a collection of key-value pairs where each key is hashed to determine where the corresponding value is stored in memory.\n",
        "python\n",
        "Copy code\n",
        "my_dict = {\"name\": \"Alice\", \"age\": 30}\n",
        "print(my_dict[\"name\"])  # Hashes \"name\" to find the value \"Alice\"\n",
        "\n",
        "2.Hash Function:\n",
        "\n",
        "- Python uses a built-in hash function (hash()) to compute hash values for keys.\n",
        "- Keys in a dictionary must be hashable (i.e., have a consistent hash value and be immutable).\n",
        "\n",
        "3.Collision Handling:\n",
        "\n",
        "- Python dictionaries use a sophisticated mechanism to handle collisions and ensure efficient lookups even in cases where many keys produce the same hash value.\n",
        "\n",
        "4.Dynamic Resizing:\n",
        "\n",
        "- Python dictionaries dynamically resize and rehash when the number of elements grows, maintaining efficient performance.\n",
        "\n",
        "#Key Features of Dictionaries as Hash Tables\n",
        "- Fast Lookups: Retrieving a value by its key is highly efficient, thanks to the underlying hash table.\n",
        "- Mutable: Dictionaries allow adding, updating, and deleting key-value pairs.\n",
        "- Flexible: Keys can be of any immutable and hashable type, such as strings, numbers, or tuples.\n",
        "\n",
        "#Example:\n",
        "python\n",
        "Copy code\n",
        "my_dict = {\"apple\": 3, \"banana\": 5, \"cherry\": 7}\n",
        "\n",
        "# Adding a key-value pair\n",
        "my_dict[\"date\"] = 9\n",
        "\n",
        "# Accessing a value\n",
        "print(my_dict[\"apple\"])  # Output: 3\n",
        "\n",
        "# Deleting a key-value pair\n",
        "del my_dict[\"banana\"]\n",
        "In this example, the dictionary uses a hash table to store and retrieve the data efficiently.\n",
        "\n",
        "#Summary\n",
        "- A hash table is the data structure behind Python's dictionary.\n",
        "- It provides fast and efficient storage and retrieval of key-value pairs using hashing.\n",
        "- Dictionaries inherit the key advantages of hash tables, such as average-case O(1) time complexity for key-based operations."
      ],
      "metadata": {
        "id": "JVnrPdQokLxK"
      },
      "execution_count": null,
      "outputs": []
    },
    {
      "cell_type": "markdown",
      "source": [
        "#10. Explain why strings are immutable in Python?"
      ],
      "metadata": {
        "id": "xdoz9r6bmWtx"
      }
    },
    {
      "cell_type": "code",
      "source": [
        "Strings are immutable in Python for several reasons, primarily to enhance performance, memory management, and security. Let's explore the rationale in detail:\n",
        "\n",
        "1. Efficiency and Performance\n",
        "- Memory Optimization: Strings are immutable, allowing Python to reuse and share string objects efficiently (a concept called string interning). If two variables have the same string value, Python can store only one copy in memory, reducing overhead.\n",
        "\n",
        "python\n",
        "Copy code\n",
        "a = \"hello\"\n",
        "b = \"hello\"\n",
        "print(a is b)  # Output: True (both point to the same object)\n",
        "- Caching: Since strings cannot change, they can be cached safely, improving performance for repeated operations.\n",
        "\n",
        "2. Hashability\n",
        "- Strings are hashable, meaning they can be used as keys in dictionaries or stored in sets. For this to work, their hash values must remain constant during their lifetime. Immutability ensures that the hash value of a string never changes.\n",
        "python\n",
        "Copy code\n",
        "my_dict = {\"name\": \"Alice\"}\n",
        "print(my_dict[\"name\"])  # Output: Alice\n",
        "\n",
        "3. Thread Safety\n",
        "- Immutability ensures that strings are thread-safe, meaning multiple threads can access and use the same string without any risk of data corruption or unexpected behavior.\n",
        "\n",
        "4. Prevention of Side Effects\n",
        "- Since strings cannot be modified, functions that take strings as arguments cannot accidentally or intentionally alter the original string. This behavior reduces bugs and makes functions more predictable.\n",
        "python\n",
        "Copy code\n",
        "def add_suffix(s):\n",
        "    s += \"!\"\n",
        "    return s\n",
        "\n",
        "original = \"hello\"\n",
        "modified = add_suffix(original)\n",
        "print(original)  # Output: hello (unchanged)\n",
        "print(modified)  # Output: hello!\n",
        "\n",
        "5. Security\n",
        "- Immutability prevents malicious or accidental modification of strings, which is crucial for sensitive data like keys, passwords, and URLs. For instance, once a string is assigned, its content cannot be altered in memory.\n",
        "\n",
        "6. Logical Consistency\n",
        "- Strings represent textual data, and their immutability aligns with the idea that once a piece of text is created, it doesn’t change. If you need a new variation, you create a new string.\n",
        "\n",
        "#Example of Immutability:\n",
        "python\n",
        "Copy code\n",
        "s = \"hello\"\n",
        "# Strings cannot be changed directly\n",
        "s[0] = \"H\"  # TypeError: 'str' object does not support item assignment\n",
        "\n",
        "# Instead, create a new string\n",
        "s = \"H\" + s[1:]  # New string: \"Hello\"\n",
        "\n",
        "#Conclusion\n",
        "Strings are immutable in Python to:\n",
        "\n",
        "- Optimize memory and performance\n",
        "- Ensure hashability and thread safety\n",
        "- Prevent unintended side effects and enhance security\n",
        "- Align with the logical design of textual data\n",
        "This design decision balances functionality, reliability, and efficiency, making strings a robust and predictable data type in Python."
      ],
      "metadata": {
        "id": "XbgIkUPWmgGU"
      },
      "execution_count": null,
      "outputs": []
    },
    {
      "cell_type": "markdown",
      "source": [
        "#11.What advantages do dictionaries offer over lists for certain tasks ?"
      ],
      "metadata": {
        "id": "1r51utTdoAbT"
      }
    },
    {
      "cell_type": "code",
      "source": [
        "Dictionaries in Python offer several advantages over lists for specific tasks due to their unique design as key-value pairs stored in a hash table. Here are the key advantages:\n",
        "\n",
        "1. Fast Lookups (O(1) Time Complexity)\n",
        "- Dictionaries provide constant-time access to values using keys, whereas lists require linear-time (O(n)) searching, especially if the desired element isn't at a specific index.\n",
        "- Example:\n",
        "python\n",
        "Copy code\n",
        "# Using a dictionary\n",
        "my_dict = {\"apple\": 3, \"banana\": 5}\n",
        "print(my_dict[\"apple\"])  # O(1)\n",
        "\n",
        "# Using a list\n",
        "my_list = [(\"apple\", 3), (\"banana\", 5)]\n",
        "for fruit, count in my_list:\n",
        "    if fruit == \"apple\":\n",
        "        print(count)  # O(n)\n",
        "\n",
        "2. Key-Based Access\n",
        "- Dictionaries allow direct access to elements via descriptive keys rather than positional indices, making the code more intuitive and readable.\n",
        "- Example:\n",
        "python\n",
        "Copy code\n",
        "# Dictionary\n",
        "user = {\"name\": \"Alice\", \"age\": 30}\n",
        "print(user[\"name\"])  # Output: Alice\n",
        "\n",
        "# List\n",
        "user = [\"Alice\", 30]\n",
        "print(user[0])  # Output: Alice (less descriptive)\n",
        "\n",
        "3. No Need to Maintain Order\n",
        "- Dictionaries are optimized for lookups rather than maintaining order (prior to Python 3.7; they are insertion-ordered starting from Python 3.7). This makes them ideal for tasks where the order of elements is irrelevant.\n",
        "\n",
        "4. Handling Complex Relationships\n",
        "- Dictionaries allow you to represent relationships between unique identifiers (keys) and values, which is difficult to achieve efficiently with lists.\n",
        "- Example:\n",
        "python\n",
        "Copy code\n",
        "# Dictionary for student grades\n",
        "grades = {\"Alice\": 95, \"Bob\": 88}\n",
        "\n",
        "5. Avoiding Duplicate Keys\n",
        "- Dictionaries inherently prevent duplicate keys, ensuring data integrity when keys need to be unique. Lists, on the other hand, allow duplicates, which may lead to data inconsistency.\n",
        "- Example:\n",
        "python\n",
        "Copy code\n",
        "my_dict = {\"key\": \"value\", \"key\": \"new_value\"}\n",
        "print(my_dict)  # Output: {\"key\": \"new_value\"}\n",
        "\n",
        "6. Versatility in Keys\n",
        "- Dictionary keys can be of any hashable type (e.g., strings, numbers, tuples), allowing for more complex indexing than the integer indices used in lists.\n",
        "- Example:\n",
        "python\n",
        "Copy code\n",
        "locations = {(10, 20): \"Park\", (15, 25): \"Library\"}\n",
        "print(locations[(10, 20)])  # Output: Park\n",
        "\n",
        "7. Better for Sparse Data\n",
        "- When dealing with sparse data (e.g., data with many missing or irrelevant entries), dictionaries are more efficient than lists because they don't require allocating space for unused elements.\n",
        "\n",
        "8. Built-in Methods for Key-Value Manipulation\n",
        "- Dictionaries have methods like keys(), values(), and items() that simplify operations on keys and values. Lists require additional processing for such tasks.\n",
        "- Example:\n",
        "\n",
        "python\n",
        "Copy code\n",
        "my_dict = {\"a\": 1, \"b\": 2, \"c\": 3}\n",
        "print(list(my_dict.keys()))   # Output: ['a', 'b', 'c']\n",
        "print(list(my_dict.values())) # Output: [1, 2, 3]\n",
        "\n",
        "#Use Case Comparison\n",
        "Task\t                                                                           Preferred Data Structure\n",
        "Fast lookups by a unique identifier\t                                             Dictionary\n",
        "Maintaining a specific order\t                                                   List\n",
        "Handling duplicate values\t                                                       List\n",
        "Associating keys with values\t                                                   Dictionary\n",
        "Accessing elements by position\t                                                 List\n",
        "Representing sparse data\t                                                       Dictionary\n",
        "\n",
        "#Conclusion\n",
        "Dictionaries are the superior choice for tasks requiring:\n",
        "\n",
        "- Fast lookups\n",
        "- Key-value mapping\n",
        "- Handling sparse or unordered data\n",
        "- Ensuring unique identifiers\n",
        "Lists are better for maintaining order, accessing elements by position, and handling homogeneous data."
      ],
      "metadata": {
        "id": "iM4FJhglodEi"
      },
      "execution_count": null,
      "outputs": []
    },
    {
      "cell_type": "markdown",
      "source": [
        "#12.Describe a scenario where using a tuple would be preferable over a list ?"
      ],
      "metadata": {
        "id": "1Tlr5G3wrpIC"
      }
    },
    {
      "cell_type": "code",
      "source": [
        "Using a tuple is preferable over a list in scenarios where the data is immutable, meaning it should not change throughout the program. Below is an example scenario and the reasons why a tuple is better suited than a list in such cases:\n",
        "\n",
        "#Scenario: Storing Coordinates in a Mapping Application\n",
        "In a mapping or navigation application, you might need to store geographical coordinates (latitude and longitude) for specific locations. These values are fixed and should not change.\n",
        "\n",
        "python\n",
        "Copy code\n",
        "# Using a tuple to store coordinates\n",
        "coordinates = (40.7128, -74.0060)  # Latitude and longitude for New York City\n",
        "\n",
        "#Why a Tuple is Preferable in This Scenario\n",
        "1.Immutability:\n",
        "\n",
        "- Coordinates are fixed data points that should not be altered. Using a tuple ensures they remain unchanged throughout the program, preventing accidental modifications.\n",
        "python\n",
        "Copy code\n",
        "coordinates = (40.7128, -74.0060)\n",
        "coordinates[0] = 41.0000  # TypeError: 'tuple' object does not support item assignment\n",
        "\n",
        "2.Hashability:\n",
        "\n",
        "- Tuples are hashable (if they contain only hashable elements) and can be used as keys in dictionaries or added to sets. This is useful if you need to store additional data about a location or ensure uniqueness.\n",
        "python\n",
        "Copy code\n",
        "location_data = {(40.7128, -74.0060): \"New York City\"}\n",
        "print(location_data[coordinates])  # Output: New York City\n",
        "\n",
        "3.Semantic Meaning:\n",
        "\n",
        "- Using a tuple conveys the intent that the data is fixed and should be treated as a single, unchangeable entity. This improves code readability and understanding.\n",
        "\n",
        "4.Memory Efficiency:\n",
        "\n",
        "- Tuples are more memory-efficient than lists because they are immutable. If performance and memory usage are critical, tuples are a better choice.\n",
        "\n",
        "5.Logical Grouping:\n",
        "\n",
        "- Coordinates represent a pair of related data points that logically belong together. A tuple enforces this association.\n",
        "\n",
        "#When a List Would Be Less Ideal\n",
        "Using a list instead of a tuple for storing coordinates would allow modification:\n",
        "\n",
        "python\n",
        "Copy code\n",
        "coordinates = [40.7128, -74.0060]\n",
        "coordinates[0] = 41.0000  # This changes the data, which might be undesirable.\n",
        "\n",
        "#Other Examples Where Tuples are Preferable:\n",
        "- Database Records: Fixed data, such as rows retrieved from a database, where each element has a specific role (e.g., (ID, Name, Age)).\n",
        "- Function Returns: Returning multiple values from a function where the structure of the data is constant.\n",
        "- Configuration Settings: Storing constant application settings or parameters, such as default color schemes.\n",
        "\n",
        "#Conclusion\n",
        "A tuple is preferable over a list when the data must remain immutable, is hashable, or represents a logical grouping of fixed items. This ensures data integrity, better performance, and clearer code semantics."
      ],
      "metadata": {
        "id": "pq8FGJKLr_4L"
      },
      "execution_count": null,
      "outputs": []
    },
    {
      "cell_type": "markdown",
      "source": [
        "#13.How do sets handle duplicate values in Python ?"
      ],
      "metadata": {
        "id": "hJOxUCtXtKiK"
      }
    },
    {
      "cell_type": "code",
      "source": [
        "In Python, sets automatically handle duplicate values by ensuring that each element in the set is unique. If you try to add a duplicate value to a set, it will be ignored. This behavior is inherent to the set data structure.\n",
        "\n",
        "#Key Characteristics of Sets Regarding Duplicates:\n",
        "1.No Duplicate Elements:\n",
        "\n",
        "- When a duplicate element is added to a set, it is ignored silently. Only one instance of the element is stored in the set.\n",
        "Example:\n",
        "\n",
        "python\n",
        "Copy code\n",
        "my_set = {1, 2, 3}\n",
        "my_set.add(2)  # Adding a duplicate\n",
        "print(my_set)  # Output: {1, 2, 3}\n",
        "\n",
        "2.Automatic Deduplication:\n",
        "\n",
        "- When creating a set from a list or other iterable, all duplicates are automatically removed.\n",
        "Example:\n",
        "\n",
        "python\n",
        "Copy code\n",
        "my_list = [1, 2, 2, 3, 4, 4, 5]\n",
        "my_set = set(my_list)\n",
        "print(my_set)  # Output: {1, 2, 3, 4, 5}\n",
        "\n",
        "3.Hashing Mechanism:\n",
        "\n",
        "3.Sets rely on a hashing mechanism to determine uniqueness. When an element is added, its hash value is calculated and checked against existing elements in the set. If the hash matches an existing element and the values are equal, the element is considered a duplicate and is not added.\n",
        "\n",
        "#Use Case Example: Deduplication\n",
        "Sets are often used to eliminate duplicates from a collection of items.\n",
        "\n",
        "python\n",
        "Copy code\n",
        "names = [\"Alice\", \"Bob\", \"Alice\", \"Charlie\", \"Bob\"]\n",
        "unique_names = set(names)\n",
        "print(unique_names)  # Output: {'Alice', 'Bob', 'Charlie'}\n",
        "\n",
        "#Behavior with Non-Hashable or Mutable Elements\n",
        "- Only hashable elements can be added to a set. Mutable types like lists or dictionaries cannot be stored in a set, as their hash value can change.\n",
        "- Attempting to add a mutable element will raise a TypeError:\n",
        "python\n",
        "Copy code\n",
        "my_set = {1, 2, 3}\n",
        "my_set.add([4, 5])  # TypeError: unhashable type: 'list'\n",
        "\n",
        "#Conclusion\n",
        "Sets handle duplicate values by ensuring that only unique elements are stored. They achieve this through hashing, which allows for efficient checking and management of duplicates. This makes sets particularly useful for tasks like deduplication and membership testing.\n"
      ],
      "metadata": {
        "id": "eQzZl6PotXV1"
      },
      "execution_count": null,
      "outputs": []
    },
    {
      "cell_type": "markdown",
      "source": [
        "#14.How does the “in” keyword work differently for lists and dictionaries ?\n"
      ],
      "metadata": {
        "id": "c0OYQ_cZuSVu"
      }
    },
    {
      "cell_type": "code",
      "source": [
        "The in keyword in Python is used to check for membership. While it can be used with both lists and dictionaries, the way it operates differs based on the data structure:\n",
        "\n",
        "1. in with Lists\n",
        "- The in keyword checks for the presence of a value among the elements in the list.\n",
        "- It performs a linear search, iterating through each element until a match is found or the list is exhausted.\n",
        "- Time Complexity: O(n), where\n",
        "𝑛\n",
        "n is the length of the list.\n",
        "\n",
        "Example:\n",
        "python\n",
        "Copy code\n",
        "my_list = [1, 2, 3, 4, 5]\n",
        "\n",
        "# Check if a value exists in the list\n",
        "print(3 in my_list)   # Output: True\n",
        "print(6 in my_list)   # Output: False\n",
        "\n",
        "2. in with Dictionaries\n",
        "- The in keyword checks for the presence of a key in the dictionary (not the values).\n",
        "- Since dictionaries are implemented as hash tables, this check is highly efficient.\n",
        "- Time Complexity: O(1) on average (due to hashing).\n",
        "\n",
        "Example:\n",
        "python\n",
        "Copy code\n",
        "my_dict = {\"name\": \"Alice\", \"age\": 30, \"city\": \"New York\"}\n",
        "\n",
        "# Check if a key exists in the dictionary\n",
        "print(\"name\" in my_dict)   # Output: True\n",
        "print(\"gender\" in my_dict) # Output: False\n",
        "\n",
        "# Note: Values are not checked directly\n",
        "print(\"Alice\" in my_dict)  # Output: False\n",
        "\n",
        "#Checking Values in a Dictionary\n",
        "If you want to check for a value (not a key) in a dictionary, you need to use the .values() method:\n",
        "\n",
        "python\n",
        "Copy code\n",
        "print(\"Alice\" in my_dict.values())  # Output: True\n",
        "\n",
        "If you need to check both keys and values, you can use .items():\n",
        "\n",
        "python\n",
        "Copy code\n",
        "print((\"name\", \"Alice\") in my_dict.items())  # Output: True\n",
        "\n",
        "#Key Differences\n",
        "Feature\t                                Lists\t                                          Dictionaries\n",
        "\n",
        "What is checked\t                 Elements of the list\t                              Keys of the dictionary\n",
        "Search Method\t                   Linear search\t                                    Hash table lookup\n",
        "Time Complexity\t                     𝑂(𝑛) O(n)\t                                      𝑂(1) on average\n",
        "Values Search Support\t            Directly supported\t                             Requires .values() method\n",
        "\n",
        "#Summary\n",
        "- Use in with lists to check if a specific element exists in the list.\n",
        "- Use in with dictionaries to check if a specific key exists. For values, you must explicitly use .values()."
      ],
      "metadata": {
        "id": "Nc07VGl_ucNf"
      },
      "execution_count": null,
      "outputs": []
    },
    {
      "cell_type": "markdown",
      "source": [
        "#15.Can you modify the elements of a tuple? Explain why or why not ?"
      ],
      "metadata": {
        "id": "xKXRkeMAwfVn"
      }
    },
    {
      "cell_type": "code",
      "source": [
        "No, you cannot modify the elements of a tuple in Python once the tuple is created. This is because tuples are immutable, meaning their contents cannot be changed after creation.\n",
        "\n",
        "#Reasons Why Tuples Are Immutable:\n",
        "1.Immutability by Design:\n",
        "\n",
        "- Tuples are designed to be immutable, which means their data cannot be modified. Once a tuple is created, its elements are fixed, and any attempt to modify them will result in a TypeError.\n",
        "- Example:\n",
        "python\n",
        "Copy code\n",
        "my_tuple = (1, 2, 3)\n",
        "my_tuple[0] = 4  # TypeError: 'tuple' object does not support item assignment\n",
        "\n",
        "2.Hashability:\n",
        "\n",
        "- Since tuples are immutable, they are hashable, meaning they can be used as keys in dictionaries or added to sets. For a data structure to be hashable, its contents must remain constant (i.e., immutable).\n",
        "- Example:\n",
        "python\n",
        "Copy code\n",
        "my_dict = { (1, 2, 3): \"coordinates\" }\n",
        "print(my_dict[(1, 2, 3)])  # Output: coordinates\n",
        "\n",
        "3.Efficiency:\n",
        "\n",
        "- Immutability allows Python to optimize memory usage and improve performance. Since the data in a tuple cannot change, it can be safely shared and reused across different parts of a program.\n",
        "\n",
        "#Can You Modify Elements of a Tuple by Changing Mutable Objects Inside It?\n",
        "- While you cannot modify the tuple itself (i.e., its structure), you can modify mutable objects contained within the tuple. For example, if a tuple contains a list (which is mutable), you can modify the elements of that list, but not the tuple itself.\n",
        "\n",
        "- Example:\n",
        "python\n",
        "Copy code\n",
        "my_tuple = ([1, 2, 3], \"hello\")\n",
        "my_tuple[0][1] = 99  # Modifying the list inside the tuple\n",
        "\n",
        "print(my_tuple)  # Output: ([1, 99, 3], \"hello\")\n",
        "In this case, the tuple itself remains unchanged, but the list inside it is modified.\n",
        "\n",
        "#Conclusion:\n",
        "- Tuples are immutable, meaning their structure and individual elements cannot be modified after creation.\n",
        "- However, if a tuple contains a mutable object (like a list), the contents of that mutable object can be modified."
      ],
      "metadata": {
        "id": "S3oVqaugwzJc"
      },
      "execution_count": null,
      "outputs": []
    },
    {
      "cell_type": "markdown",
      "source": [
        "#16.What is a nested dictionary, and give an example of its use case ?"
      ],
      "metadata": {
        "id": "J511TGHmx4TA"
      }
    },
    {
      "cell_type": "code",
      "source": [
        "A nested dictionary is a dictionary where one or more values are themselves dictionaries. This allows for the creation of hierarchical or multi-level data structures, making it useful for representing complex relationships or datasets.\n",
        "\n",
        "#Structure of a Nested Dictionary:\n",
        "A nested dictionary can have dictionaries inside it as values, and those inner dictionaries can also contain more dictionaries or other types of data.\n",
        "\n",
        "#Example of a Nested Dictionary:\n",
        "python\n",
        "Copy code\n",
        "# A nested dictionary representing a company's employee details\n",
        "company = {\n",
        "    \"John Doe\": {\n",
        "        \"position\": \"Manager\",\n",
        "        \"age\": 35,\n",
        "        \"salary\": 75000,\n",
        "        \"address\": {\"street\": \"123 Main St\", \"city\": \"New York\"}\n",
        "    },\n",
        "    \"Jane Smith\": {\n",
        "        \"position\": \"Developer\",\n",
        "        \"age\": 28,\n",
        "        \"salary\": 65000,\n",
        "        \"address\": {\"street\": \"456 Oak Rd\", \"city\": \"San Francisco\"}\n",
        "    }\n",
        "}\n",
        "\n",
        "#Explanation:\n",
        "- The outer dictionary has keys representing employee names (\"John Doe\", \"Jane Smith\").\n",
        "- The values corresponding to these keys are inner dictionaries, each containing the employee's details (position, age, salary, and address).\n",
        "- The address is another dictionary, which is a nested dictionary within the inner dictionary.\n",
        "\n",
        "#Accessing Values in a Nested Dictionary:\n",
        "To access values in a nested dictionary, you use multiple keys. For example, to get the position of \"John Doe\":\n",
        "\n",
        "python\n",
        "Copy code\n",
        "position = company[\"John Doe\"][\"position\"]\n",
        "print(position)  # Output: Manager\n",
        "To access the city in \"Jane Smith\"'s address:\n",
        "\n",
        "python\n",
        "Copy code\n",
        "city = company[\"Jane Smith\"][\"address\"][\"city\"]\n",
        "print(city)  # Output: San Francisco\n",
        "\n",
        "#Use Case for a Nested Dictionary:\n",
        "A nested dictionary is especially useful when you need to represent structured or hierarchical data. Common use cases include:\n",
        "\n",
        "1.Storing user profiles in a web application, where each user has multiple attributes like personal info, settings, and preferences.\n",
        "\n",
        "2.Storing hierarchical data such as organizational structures (e.g., a company with departments and employees) or geographical data (e.g., countries with cities and regions).\n",
        "\n",
        "3.JSON-like structures: Nested dictionaries are often used when dealing with data from JSON files or APIs, as JSON data often uses nested objects to represent complex relationships.\n",
        "\n",
        "#Example Use Case: Storing Product Information in an E-commerce Store\n",
        "python\n",
        "Copy code\n",
        "products = {\n",
        "    \"product1\": {\n",
        "        \"name\": \"Laptop\",\n",
        "        \"price\": 1200,\n",
        "        \"availability\": \"In Stock\",\n",
        "        \"attributes\": {\"color\": \"Silver\", \"brand\": \"BrandX\"}\n",
        "    },\n",
        "    \"product2\": {\n",
        "        \"name\": \"Smartphone\",\n",
        "        \"price\": 800,\n",
        "        \"availability\": \"Out of Stock\",\n",
        "        \"attributes\": {\"color\": \"Black\", \"brand\": \"BrandY\"}\n",
        "    }\n",
        "}\n",
        "- Each product (e.g., \"product1\", \"product2\") is represented as a key, and the value is an inner dictionary that holds detailed information about the product.\n",
        "- The attributes key holds another nested dictionary for additional details like color and brand.\n",
        "\n",
        "#Conclusion:\n",
        "A nested dictionary allows for storing and organizing complex, hierarchical data structures in Python. It is useful in scenarios where you need to represent multi-level relationships, such as user profiles, organizational structures, or product catalogs."
      ],
      "metadata": {
        "id": "9aaY9WPByD7z"
      },
      "execution_count": null,
      "outputs": []
    },
    {
      "cell_type": "markdown",
      "source": [
        "#17.Describe the time complexity of accessing elements in a dictionary ?"
      ],
      "metadata": {
        "id": "mPXN8e8ezASJ"
      }
    },
    {
      "cell_type": "code",
      "source": [
        "The time complexity of accessing elements in a Python dictionary is O(1) on average, also known as constant time. This means that the time it takes to access a value using a key is independent of the size of the dictionary.\n",
        "\n",
        "#Why is Accessing Elements in a Dictionary O(1)?\n",
        "Python dictionaries are implemented using a hash table. When you access an element in a dictionary by key, the following steps occur:\n",
        "\n",
        "1.Hashing the Key:\n",
        "- The key you provide is hashed using a hash function, which generates a unique hash value for the key. The hash value is used to determine where the corresponding value is stored in memory.\n",
        "\n",
        "2.Direct Lookup:\n",
        "- Once the hash value is obtained, the dictionary directly locates the memory address where the value is stored (based on the hash value), allowing for an O(1) lookup time.\n",
        "This process of hashing and direct addressing is what makes dictionary lookups highly efficient.\n",
        "\n",
        "#Worst-Case Time Complexity (O(n)):\n",
        "Although the average time complexity is O(1), there are scenarios where the lookup could degrade to O(n) (linear time). This happens in collision cases where multiple keys have the same hash value.\n",
        "\n",
        "In such cases:\n",
        "\n",
        "- The dictionary will store the key-value pairs in a linked list or other structure at that location, and Python will need to traverse the list to find the correct key.\n",
        "- This occurs rarely, and Python's hash table implementation is optimized to minimize collisions, making the worst-case scenario quite rare in practice.\n",
        "#Practical Example:\n",
        "python\n",
        "Copy code\n",
        "my_dict = {\"a\": 1, \"b\": 2, \"c\": 3}\n",
        "\n",
        "# Accessing a value by key\n",
        "value = my_dict[\"b\"]  # O(1) time complexity\n",
        "print(value)  # Output: 2\n",
        "Even if the dictionary has thousands or millions of elements, accessing an element by key will still, on average, take constant time O(1).\n",
        "\n",
        "#In Summary:\n",
        "- Average Time Complexity for accessing elements in a dictionary: O(1).\n",
        "- Worst-Case Time Complexity (in case of many hash collisions): O(n), but this is rare due to the efficiency of Python's hash table implementation."
      ],
      "metadata": {
        "id": "tVFEM6jnzJCQ"
      },
      "execution_count": null,
      "outputs": []
    },
    {
      "cell_type": "markdown",
      "source": [
        "#18. In what situations are lists preferred over dictionaries ?"
      ],
      "metadata": {
        "id": "7m3FCvyuz9A2"
      }
    },
    {
      "cell_type": "code",
      "source": [
        "Lists are preferred over dictionaries in situations where:\n",
        "\n",
        "1.Order Matters:\n",
        "\n",
        "- When you need to maintain the order of the elements, use a list. Lists preserve the order of insertion, which makes them ideal when you need to process elements in a specific sequence.\n",
        "- Example: A list of tasks to be completed in a specific order.\n",
        "python\n",
        "Copy code\n",
        "tasks = [\"Buy groceries\", \"Finish report\", \"Call mom\"]\n",
        "\n",
        "#Accessing Elements by Index:\n",
        "\n",
        "- Lists allow indexed access to elements, meaning you can directly access elements by their position (index). This is useful when you need to frequently retrieve elements by their index.\n",
        "- Example: A list of grades where you need to access a student's grade by position.\n",
        "python\n",
        "Copy code\n",
        "grades = [85, 90, 88, 92]\n",
        "print(grades[2])  # Accessing the grade of the third student\n",
        "\n",
        "3.Working with Homogeneous Data:\n",
        "\n",
        "- If the data in the collection is uniform (i.e., all elements are of the same type and you need to perform similar operations on all of them), lists are a simpler choice. Lists are often more memory-efficient when used for homogeneous data.\n",
        "- Example: A list of integers representing the number of sales for each day of the week.\n",
        "python\n",
        "Copy code\n",
        "sales = [150, 200, 180, 220, 170, 160, 190]\n",
        "\n",
        "4.Iterating Through All Elements:\n",
        "\n",
        "- If you need to iterate over all elements in a collection, a list is often simpler because it’s an ordered, indexed collection. You can easily loop through each item without having to worry about key-value pairs, as you do with dictionaries.\n",
        "- Example: Iterating through a list of names to print them.\n",
        "python\n",
        "Copy code\n",
        "names = [\"Alice\", \"Bob\", \"Charlie\"]\n",
        "for name in names:\n",
        "    print(name)\n",
        "\n",
        "5.Duplicates Are Allowed:\n",
        "\n",
        "- Lists allow duplicate values, while dictionaries do not (keys in a dictionary must be unique). If your data requires duplicate elements, lists are the appropriate choice.\n",
        "- Example: A list of user IDs where some users might be assigned to multiple groups.\n",
        "python\n",
        "Copy code\n",
        "user_ids = [101, 102, 101, 103, 104]\n",
        "\n",
        "6.When You Need to Perform Sorting or Slicing:\n",
        "\n",
        "- Lists support operations like sorting and slicing more efficiently than dictionaries. You can easily sort a list of values or extract sublists using slicing.\n",
        "- Example: Sorting a list of scores in descending order.\n",
        "python\n",
        "Copy code\n",
        "scores = [50, 80, 70, 90, 60]\n",
        "sorted_scores = sorted(scores, reverse=True)\n",
        "\n",
        "7.Fixed-Size Collection:\n",
        "\n",
        "- If the collection size is fixed or known in advance and doesn’t need to be changed dynamically, lists work well for storing a predefined number of elements.\n",
        "- Example: Storing the days of the week.\n",
        "python\n",
        "Copy code\n",
        "days_of_week = [\"Monday\", \"Tuesday\", \"Wednesday\", \"Thursday\", \"Friday\", \"Saturday\", \"Sunday\"]\n",
        "\n",
        "#When Lists Are Not Preferred:\n",
        "- If you need to map keys to values (e.g., user information where each user has a unique ID), a dictionary is better since it allows you to store key-value pairs and provides efficient lookups based on keys.\n",
        "- If you need fast lookups by a specific key, dictionaries provide O(1) average time complexity for lookups, while lists require O(n) time to search for an element.\n",
        "\n",
        "#In Summary:\n",
        "Use lists when:\n",
        "\n",
        "- The order of elements matters.\n",
        "- You need to access elements by index.\n",
        "- You have homogeneous data and don’t need unique keys.\n",
        "- Duplicates are allowed.\n",
        "- You need to perform operations like sorting or slicing.\n",
        "\n",
        "Use dictionaries when:\n",
        "\n",
        "- You need to associate values with unique keys.\n",
        "- Fast lookups based on keys are required."
      ],
      "metadata": {
        "id": "Il2JBcx60Gao"
      },
      "execution_count": null,
      "outputs": []
    },
    {
      "cell_type": "markdown",
      "source": [
        "#19.Why are dictionaries considered unordered, and how does that affect data retrieval ?"
      ],
      "metadata": {
        "id": "oB3jCqyQ1VBy"
      }
    },
    {
      "cell_type": "code",
      "source": [
        "In Python, dictionaries are considered unordered because, until Python 3.7, dictionaries did not guarantee the order in which their key-value pairs were stored. The keys in a dictionary do not maintain any specific order, and the elements might be stored in a seemingly random sequence.\n",
        "\n",
        "However, starting from Python 3.7 and beyond, dictionaries maintain the insertion order. This means that when you iterate over a dictionary, the items will be returned in the order they were added. Despite this improvement, dictionaries are still primarily designed for fast lookups and are not designed for ordered data retrieval like lists or tuples.\n",
        "\n",
        "#How Does Being Unordered Affect Data Retrieval?\n",
        "1. Key-Based Access\n",
        "- The primary way to access data in a dictionary is through keys, not by their order. You do not need to know the order of elements because you can directly look up the value associated with a key using the key itself.\n",
        "- This results in constant time complexity (O(1)) for retrieving values if the key is known, making dictionaries very efficient for key-based lookups.\n",
        "Example:\n",
        "python\n",
        "Copy code\n",
        "# Creating a dictionary\n",
        "my_dict = {\"name\": \"Alice\", \"age\": 25, \"city\": \"New York\"}\n",
        "\n",
        "# Accessing a value using a key\n",
        "print(my_dict[\"name\"])  # Output: Alice\n",
        "Despite the fact that dictionaries are unordered in terms of the sequence of items, accessing values through their keys is fast and efficient.\n",
        "\n",
        "2. No Indexing or Slicing\n",
        "- Since dictionaries are unordered, they do not support indexing (e.g., my_dict[0] is not valid) or slicing like lists or tuples.\n",
        "- If you need to access elements by position or order, dictionaries are not suitable. You would need to convert the dictionary into a list or another ordered structure.\n",
        "Example:\n",
        "python\n",
        "Copy code\n",
        "# Trying to access dictionary items by index (invalid)\n",
        "my_dict = {\"name\": \"Alice\", \"age\": 25, \"city\": \"New York\"}\n",
        "try:\n",
        "    print(my_dict[0])  # Will raise an error\n",
        "except TypeError as e:\n",
        "    print(\"Error:\", e)\n",
        "Output:\n",
        "\n",
        "csharp\n",
        "Copy code\n",
        "Error: 'dict' object is not subscriptable\n",
        "\n",
        "3. Iteration Over Keys, Values, or Items\n",
        "- While dictionaries do not guarantee order (before Python 3.7), you can still iterate over them using methods like .keys(), .values(), or .items().\n",
        "- Before Python 3.7, the order of iteration was unpredictable, which meant that the order in which items were processed could vary.\n",
        "- From Python 3.7 onwards, the order of iteration reflects the order of insertion.\n",
        "Example:\n",
        "python\n",
        "Copy code\n",
        "# Python 3.7+\n",
        "my_dict = {\"name\": \"Alice\", \"age\": 25, \"city\": \"New York\"}\n",
        "\n",
        "# Iterating over dictionary keys\n",
        "for key in my_dict:\n",
        "    print(key, \":\", my_dict[key])\n",
        "\n",
        "Output (Python 3.7+):\n",
        "\n",
        "yaml\n",
        "Copy code\n",
        "name : Alice\n",
        "age : 25\n",
        "city : New York\n",
        "In earlier versions, the order of iteration might not have matched the insertion order.\n",
        "\n",
        "4. Performance Impact on Order-Dependent Operations\n",
        "- Since dictionaries are unordered (before Python 3.7), performing operations that depend on the order of elements, such as sorting or indexing, would require additional steps.\n",
        "- If you needed to perform ordered operations (like sorting), you would have to first convert the dictionary to a list or tuple.\n",
        "Example:\n",
        "python\n",
        "Copy code\n",
        "# Sorting dictionary by values (convert to list first)\n",
        "my_dict = {\"name\": \"Alice\", \"age\": 25, \"city\": \"New York\"}\n",
        "sorted_items = sorted(my_dict.items(), key=lambda x: x[1])  # Sort by value\n",
        "\n",
        "print(\"Sorted items by value:\", sorted_items)\n",
        "\n",
        "Output:\n",
        "\n",
        "csharp\n",
        "Copy code\n",
        "Sorted items by value: [('age', 25), ('name', 'Alice'), ('city', 'New York')]\n",
        "\n",
        "#Key Takeaways:\n",
        "1.Dictionaries are unordered (until Python 3.7) because the internal hash-based structure does not preserve element order.\n",
        "2.Despite being unordered, dictionaries offer fast key-based access to values with O(1) time complexity.\n",
        "3.Dictionaries do not support indexing or slicing and cannot be used like lists or tuples when order matters.\n",
        "4.From Python 3.7 onwards, dictionaries preserve the insertion order, making them \"ordered\" in practice, but this should not be relied upon for operations requiring a strict order.\n",
        "5.For order-dependent operations, you may need to convert dictionaries to other ordered data structures like lists or tuples.\n",
        "\n",
        "In summary, dictionaries excel at fast lookups using keys but should be used carefully when the order of elements is important."
      ],
      "metadata": {
        "id": "JGy7N2Ii41rG"
      },
      "execution_count": null,
      "outputs": []
    },
    {
      "cell_type": "markdown",
      "source": [
        "#20.Explain the difference between a list and a dictionary in terms of data retrieval ?"
      ],
      "metadata": {
        "id": "aWgjrISe6b6a"
      }
    },
    {
      "cell_type": "code",
      "source": [
        "#Difference Between a List and a Dictionary in Terms of Data Retrieval\n",
        "\n",
        "Aspect\t                  List\t                                                                     Dictionary\n",
        "Data Structure Type\t    Ordered collection of elements.\t                                        Unordered collection of key-value pairs.\n",
        "Access Method\t          Elements are accessed by their index (position).\t                      Values are accessed by their key.\n",
        "Access Complexity\t      Access by index has O(1) time complexity.                               Access by key has O(1) average time complexity.\n",
        "Key/Index Requirement\t  Uses implicit numeric indices starting from 0.\t                        Requires explicit, unique keys to retrieve values.\n",
        "Lookup by Value\t        Searching for an element (e.g., x in list) has O(n) time complexity.\t  Lookup by key (e.g., x in dict) has O(1) time complexity.\n",
        "Use Case\t              Best for storing ordered collections or sequences.\t                    Best for associating keys with specific values.\n",
        "\n",
        "1. Accessing Data\n",
        "- Lists: Access data using numeric indices (position-based).\n",
        "- Dictionaries: Access data using unique keys (key-value mapping).\n",
        "Example:\n",
        "python\n",
        "Copy code\n",
        "# List\n",
        "my_list = [\"apple\", \"banana\", \"cherry\"]\n",
        "print(my_list[1])  # Access by index: Output -> banana\n",
        "\n",
        "# Dictionary\n",
        "my_dict = {\"fruit1\": \"apple\", \"fruit2\": \"banana\", \"fruit3\": \"cherry\"}\n",
        "print(my_dict[\"fruit2\"])  # Access by key: Output -> banana\n",
        "\n",
        "2. Speed of Retrieval\n",
        "- Lists: Retrieving an element by index is fast (O(1)), but searching for an element by value (e.g., if \"apple\" in my_list) is slower (O(n)).\n",
        "- Dictionaries: Retrieving a value by key is extremely fast (O(1)), regardless of the dictionary size, as it uses a hash table.\n",
        "Example:\n",
        "python\n",
        "Copy code\n",
        "# Searching in a list (O(n))\n",
        "my_list = [\"apple\", \"banana\", \"cherry\"]\n",
        "print(\"banana\" in my_list)  # True (slower for large lists)\n",
        "\n",
        "# Searching in a dictionary (O(1))\n",
        "my_dict = {\"fruit1\": \"apple\", \"fruit2\": \"banana\", \"fruit3\": \"cherry\"}\n",
        "print(\"fruit2\" in my_dict)  # True (fast, as it checks keys)\n",
        "\n",
        "3. Flexibility in Data Retrieval\n",
        "- Lists: Only one way to access data: by position.\n",
        "- Dictionaries: Multiple ways to access data:\n",
        "  - By keys (dict[key]).\n",
        "  - Iterating over keys (for key in dict).\n",
        "  - Iterating over values (for value in dict.values()).\n",
        "  - Iterating over key-value pairs (for key, value in dict.items()).\n",
        "Example:\n",
        "python\n",
        "Copy code\n",
        "# Accessing all elements in a list\n",
        "my_list = [\"apple\", \"banana\", \"cherry\"]\n",
        "for item in my_list:\n",
        "    print(item)\n",
        "\n",
        "# Accessing keys and values in a dictionary\n",
        "my_dict = {\"fruit1\": \"apple\", \"fruit2\": \"banana\", \"fruit3\": \"cherry\"}\n",
        "for key, value in my_dict.items():\n",
        "    print(f\"{key}: {value}\")\n",
        "\n",
        "4. Retrieval by Index/Key\n",
        "- Lists: You can access elements by their numeric position, but you cannot directly retrieve an element by its value.\n",
        "- Dictionaries: Direct access to values using keys, with no need to search through the structure.\n",
        "Example:\n",
        "python\n",
        "Copy code\n",
        "# Retrieving a value by index in a list\n",
        "my_list = [\"apple\", \"banana\", \"cherry\"]\n",
        "index = my_list.index(\"banana\")  # Find index of a value\n",
        "print(my_list[index])  # Output -> banana\n",
        "\n",
        "# Retrieving a value by key in a dictionary\n",
        "my_dict = {\"fruit1\": \"apple\", \"fruit2\": \"banana\", \"fruit3\": \"cherry\"}\n",
        "print(my_dict[\"fruit2\"])  # Output -> banana\n",
        "\n",
        "5. Ordering\n",
        "- Lists: Maintain the insertion order of elements and allow duplicates.\n",
        "- Dictionaries: Maintain the insertion order (from Python 3.7 onwards), but keys must be unique.\n",
        "\n",
        "#Use Cases\n",
        "1.Lists:\n",
        "\n",
        "- Storing ordered collections or sequences of data (e.g., a list of names or numbers).\n",
        "- Iterating over a sequence where position is important.\n",
        "\n",
        "2.Dictionaries:\n",
        "\n",
        "- Storing data that requires a relationship between keys and values (e.g., name-age pairs or product-price mappings).\n",
        "- Fast lookups when the key is known.\n",
        "\n",
        "#Conclusion\n",
        "- Lists are ideal when you need a simple, ordered collection of items that you can access by position.\n",
        "- Dictionaries are more efficient and flexible for retrieving data based on unique keys, especially when the order of elements is not a priority.\n",
        "\n"
      ],
      "metadata": {
        "id": "PNSAcRN67Ay_"
      },
      "execution_count": null,
      "outputs": []
    },
    {
      "cell_type": "markdown",
      "source": [
        "\n",
        "\n",
        "**PRACTICAL QUESTIONS**"
      ],
      "metadata": {
        "id": "e_0fyBzA-Kl3"
      }
    },
    {
      "cell_type": "markdown",
      "source": [
        "#1.Write a code to create a string with your name and print it ?"
      ],
      "metadata": {
        "id": "m9NrHuKB-ezp"
      }
    },
    {
      "cell_type": "code",
      "source": [
        "# Creating a string with my name\n",
        "name = \"Ritika pawar\"\n",
        "\n",
        "# Printing the string\n",
        "print(\"My name is:\", name)"
      ],
      "metadata": {
        "id": "woB7F2w3-6A2",
        "colab": {
          "base_uri": "https://localhost:8080/"
        },
        "outputId": "cd695a19-ebf5-4bad-d62d-d6fcee2cd1a9"
      },
      "execution_count": 4,
      "outputs": [
        {
          "output_type": "stream",
          "name": "stdout",
          "text": [
            "My name is: Ritika pawar\n"
          ]
        }
      ]
    },
    {
      "cell_type": "markdown",
      "source": [
        "#2.Write a code to find the length of the string \"Hello World\"E ?"
      ],
      "metadata": {
        "id": "P4jCxZSk_Lmx"
      }
    },
    {
      "cell_type": "code",
      "source": [
        "# Defining the string\n",
        "my_string = \"Hello World\"\n",
        "\n",
        "# Finding the length of the string\n",
        "length = len(my_string)\n",
        "\n",
        "# Printing the result\n",
        "print(\"The length of the string is:\", length)"
      ],
      "metadata": {
        "id": "AK8UkYKo_j1C",
        "colab": {
          "base_uri": "https://localhost:8080/"
        },
        "outputId": "53b5af26-0a64-4aa5-c6f0-f0e3a81f03ca"
      },
      "execution_count": 5,
      "outputs": [
        {
          "output_type": "stream",
          "name": "stdout",
          "text": [
            "The length of the string is: 11\n"
          ]
        }
      ]
    },
    {
      "cell_type": "markdown",
      "source": [
        "#3.Write a code to slice the first 3 characters from the string \"Python Programming\"."
      ],
      "metadata": {
        "id": "5EzfIcrvDlaO"
      }
    },
    {
      "cell_type": "code",
      "source": [
        "# Defining the string\n",
        "my_string = \"Python Programming\"\n",
        "\n",
        "# Slicing the first 3 characters\n",
        "first_three = my_string[:3]\n",
        "\n",
        "# Printing the result\n",
        "print(\"The first 3 characters are:\", first_three)"
      ],
      "metadata": {
        "id": "TloPiAvvGSaj",
        "colab": {
          "base_uri": "https://localhost:8080/"
        },
        "outputId": "7098763c-4bd4-4fa5-b8d2-055fca6846d0"
      },
      "execution_count": 6,
      "outputs": [
        {
          "output_type": "stream",
          "name": "stdout",
          "text": [
            "The first 3 characters are: Pyt\n"
          ]
        }
      ]
    },
    {
      "cell_type": "markdown",
      "source": [
        "#4.Write a code to convert the string \"hello\" to uppercase ?"
      ],
      "metadata": {
        "id": "7kcCZLbDGrQ4"
      }
    },
    {
      "cell_type": "code",
      "source": [
        "# Defining the string\n",
        "my_string = \"hello\"\n",
        "\n",
        "# Converting the string to uppercase\n",
        "uppercase_string = my_string.upper()\n",
        "\n",
        "# Printing the result\n",
        "print(\"Uppercase string:\", uppercase_string)"
      ],
      "metadata": {
        "id": "qPXQThuIHVTb",
        "colab": {
          "base_uri": "https://localhost:8080/"
        },
        "outputId": "7119396f-fcba-4b3e-b1f4-42c6fee703b7"
      },
      "execution_count": 8,
      "outputs": [
        {
          "output_type": "stream",
          "name": "stdout",
          "text": [
            "Uppercase string: HELLO\n"
          ]
        }
      ]
    },
    {
      "cell_type": "markdown",
      "source": [
        "#5.Write a code to replace the word \"apple\" with \"orange\" in the string \"I like apple\" ?"
      ],
      "metadata": {
        "id": "urWQKe1bHjsx"
      }
    },
    {
      "cell_type": "code",
      "source": [
        "# Defining the string\n",
        "my_string = \"I like apple\"\n",
        "\n",
        "# Replacing \"apple\" with \"orange\"\n",
        "modified_string = my_string.replace(\"apple\", \"orange\")\n",
        "\n",
        "# Printing the result\n",
        "print(\"Modified string:\", modified_string)"
      ],
      "metadata": {
        "id": "tMPdSUrqHrXr",
        "colab": {
          "base_uri": "https://localhost:8080/"
        },
        "outputId": "d5d47dec-65f1-4568-ef0d-0e0b530edc15"
      },
      "execution_count": 9,
      "outputs": [
        {
          "output_type": "stream",
          "name": "stdout",
          "text": [
            "Modified string: I like orange\n"
          ]
        }
      ]
    },
    {
      "cell_type": "markdown",
      "source": [
        "#6.Write a code to create a list with numbers 1 to 5 and print it ?"
      ],
      "metadata": {
        "id": "MRnzXZjUH8Tl"
      }
    },
    {
      "cell_type": "code",
      "source": [
        "# Creating a list with numbers 1 to 5\n",
        "numbers = [1, 2, 3, 4, 5]\n",
        "\n",
        "# Printing the list\n",
        "print(\"The list is:\", numbers)"
      ],
      "metadata": {
        "id": "WWuWBaBzIScf",
        "colab": {
          "base_uri": "https://localhost:8080/"
        },
        "outputId": "9b8e091f-6fe0-4468-f264-1cb57d71caf0"
      },
      "execution_count": 10,
      "outputs": [
        {
          "output_type": "stream",
          "name": "stdout",
          "text": [
            "The list is: [1, 2, 3, 4, 5]\n"
          ]
        }
      ]
    },
    {
      "cell_type": "markdown",
      "source": [
        "#7.Write a code to append the number 10 to the list [1, 2, 3, 4] ?"
      ],
      "metadata": {
        "id": "S92m0b5qIY1M"
      }
    },
    {
      "cell_type": "code",
      "source": [
        "# Defining the list\n",
        "my_list = [1, 2, 3, 4]\n",
        "\n",
        "# Appending the number 10\n",
        "my_list.append(10)\n",
        "\n",
        "# Printing the updated list\n",
        "print(\"Updated list:\", my_list)"
      ],
      "metadata": {
        "id": "1ojjNAo-IfxC",
        "colab": {
          "base_uri": "https://localhost:8080/"
        },
        "outputId": "1a9c2b06-00e9-40f6-fde4-6ab93402d3b4"
      },
      "execution_count": 11,
      "outputs": [
        {
          "output_type": "stream",
          "name": "stdout",
          "text": [
            "Updated list: [1, 2, 3, 4, 10]\n"
          ]
        }
      ]
    },
    {
      "cell_type": "markdown",
      "source": [
        "#8.Write a code to remove the number 3 from the list [1, 2, 3, 4, 5] ?"
      ],
      "metadata": {
        "id": "ks0av0K-Iuhg"
      }
    },
    {
      "cell_type": "code",
      "source": [
        "# Defining the list\n",
        "my_list = [1, 2, 3, 4, 5]\n",
        "\n",
        "# Removing the number 3\n",
        "my_list.remove(3)\n",
        "\n",
        "# Printing the updated list\n",
        "print(\"Updated list:\", my_list)"
      ],
      "metadata": {
        "id": "JhDaI3tFI3oE",
        "colab": {
          "base_uri": "https://localhost:8080/"
        },
        "outputId": "9170d6a9-e97f-43e4-deba-aadd116c0dd0"
      },
      "execution_count": 12,
      "outputs": [
        {
          "output_type": "stream",
          "name": "stdout",
          "text": [
            "Updated list: [1, 2, 4, 5]\n"
          ]
        }
      ]
    },
    {
      "cell_type": "markdown",
      "source": [
        "#9.Write a code to access the second element in the list ['a', 'b', 'c', 'd']?"
      ],
      "metadata": {
        "id": "S3bCBrxSJFmd"
      }
    },
    {
      "cell_type": "code",
      "source": [
        "# Defining the list\n",
        "my_list = ['a', 'b', 'c', 'd']\n",
        "\n",
        "# Accessing the second element (index 1)\n",
        "second_element = my_list[1]\n",
        "\n",
        "# Printing the second element\n",
        "print(\"The second element is:\", second_element)"
      ],
      "metadata": {
        "id": "u1kSTsCDJPoG",
        "colab": {
          "base_uri": "https://localhost:8080/"
        },
        "outputId": "c1c581cb-7c60-4dc1-85c1-d8579ccf2d3a"
      },
      "execution_count": 13,
      "outputs": [
        {
          "output_type": "stream",
          "name": "stdout",
          "text": [
            "The second element is: b\n"
          ]
        }
      ]
    },
    {
      "cell_type": "markdown",
      "source": [
        "#10.Write a code to reverse the list [10, 20, 30, 40, 50]."
      ],
      "metadata": {
        "id": "3AqqSpkHJgU5"
      }
    },
    {
      "cell_type": "code",
      "source": [
        "# Defining the list\n",
        "my_list = [10, 20, 30, 40, 50]\n",
        "\n",
        "# Reversing the list\n",
        "my_list.reverse()\n",
        "\n",
        "# Printing the reversed list\n",
        "print(\"Reversed list:\", my_list)"
      ],
      "metadata": {
        "id": "ZbgSIpqrJm_B",
        "colab": {
          "base_uri": "https://localhost:8080/"
        },
        "outputId": "819e50d6-5a57-4c7a-b6bc-ad9f425159d1"
      },
      "execution_count": 14,
      "outputs": [
        {
          "output_type": "stream",
          "name": "stdout",
          "text": [
            "Reversed list: [50, 40, 30, 20, 10]\n"
          ]
        }
      ]
    },
    {
      "cell_type": "markdown",
      "source": [
        "#11. Write a code to create a tuple with the elements 10, 20, 30 and print it ?"
      ],
      "metadata": {
        "id": "_xVlHsG4J1S0"
      }
    },
    {
      "cell_type": "code",
      "source": [
        "# Creating a tuple\n",
        "my_tuple = (10, 20, 30)\n",
        "\n",
        "# Printing the tuple\n",
        "print(\"The tuple is:\", my_tuple)"
      ],
      "metadata": {
        "colab": {
          "base_uri": "https://localhost:8080/"
        },
        "id": "dnPisfS7pcIC",
        "outputId": "e8ba7e23-f11b-4a5a-9328-5dd4b616c37a"
      },
      "execution_count": 15,
      "outputs": [
        {
          "output_type": "stream",
          "name": "stdout",
          "text": [
            "The tuple is: (10, 20, 30)\n"
          ]
        }
      ]
    },
    {
      "cell_type": "markdown",
      "source": [
        "#12.Write a code to access the first element of the tuple ('apple', 'banana', 'cherry')?"
      ],
      "metadata": {
        "id": "G5bUe-fDp0NS"
      }
    },
    {
      "cell_type": "code",
      "source": [
        "# Defining the tuple\n",
        "my_tuple = ('apple', 'banana', 'cherry')\n",
        "\n",
        "# Accessing the first element (index 0)\n",
        "first_element = my_tuple[0]\n",
        "\n",
        "# Printing the first element\n",
        "print(\"The first element is:\", first_element)"
      ],
      "metadata": {
        "colab": {
          "base_uri": "https://localhost:8080/"
        },
        "id": "n7wsyhj3p_Qu",
        "outputId": "1e6e2070-ca9a-48aa-cfd6-ad3773645bcf"
      },
      "execution_count": 16,
      "outputs": [
        {
          "output_type": "stream",
          "name": "stdout",
          "text": [
            "The first element is: apple\n"
          ]
        }
      ]
    },
    {
      "cell_type": "markdown",
      "source": [
        "#13. Write a code to count how many times the number 2 appears in the tuple (1, 2, 3, 2, 4, 2) ?"
      ],
      "metadata": {
        "id": "-QfLQ15NqQzW"
      }
    },
    {
      "cell_type": "code",
      "source": [
        "# Defining the tuple\n",
        "my_tuple = (1, 2, 3, 2, 4, 2)\n",
        "\n",
        "# Counting occurrences of the number 2\n",
        "count_of_two = my_tuple.count(2)\n",
        "\n",
        "# Printing the count\n",
        "print(\"The number 2 appears\", count_of_two, \"times in the tuple.\")"
      ],
      "metadata": {
        "colab": {
          "base_uri": "https://localhost:8080/"
        },
        "id": "FqqWc9bhqYrk",
        "outputId": "f24d78e4-deec-4443-e5d2-37f0b6a76381"
      },
      "execution_count": 17,
      "outputs": [
        {
          "output_type": "stream",
          "name": "stdout",
          "text": [
            "The number 2 appears 3 times in the tuple.\n"
          ]
        }
      ]
    },
    {
      "cell_type": "markdown",
      "source": [
        "#14.. Write a code to find the index of the element \"cat\" in the tuple ('dog', 'cat', 'rabbit') ?"
      ],
      "metadata": {
        "id": "vyTTK5sgqybd"
      }
    },
    {
      "cell_type": "code",
      "source": [
        "# Defining the tuple\n",
        "my_tuple = ('dog', 'cat', 'rabbit')\n",
        "\n",
        "# Finding the index of \"cat\"\n",
        "cat_index = my_tuple.index('cat')\n",
        "\n",
        "# Printing the index\n",
        "print(\"The index of 'cat' is:\", cat_index)"
      ],
      "metadata": {
        "colab": {
          "base_uri": "https://localhost:8080/"
        },
        "id": "PqqlUb_qrJ-9",
        "outputId": "23a27d69-a421-4855-bd31-81c3587a1992"
      },
      "execution_count": 18,
      "outputs": [
        {
          "output_type": "stream",
          "name": "stdout",
          "text": [
            "The index of 'cat' is: 1\n"
          ]
        }
      ]
    },
    {
      "cell_type": "markdown",
      "source": [
        "#15.Write a code to check if the element \"banana\" is in the tuple ('apple', 'orange', 'banana')?"
      ],
      "metadata": {
        "id": "XOcH6rcdrpic"
      }
    },
    {
      "cell_type": "code",
      "source": [
        "# Defining the tuple\n",
        "my_tuple = ('apple', 'orange', 'banana')\n",
        "\n",
        "# Checking if \"banana\" is in the tuple\n",
        "if \"banana\" in my_tuple:\n",
        "    print(\"'banana' is in the tuple.\")\n",
        "else:\n",
        "    print(\"'banana' is not in the tuple.\")"
      ],
      "metadata": {
        "colab": {
          "base_uri": "https://localhost:8080/"
        },
        "id": "kQUmHpnPsSgO",
        "outputId": "267476ab-8369-40cf-8ef5-4454e4b7d296"
      },
      "execution_count": 19,
      "outputs": [
        {
          "output_type": "stream",
          "name": "stdout",
          "text": [
            "'banana' is in the tuple.\n"
          ]
        }
      ]
    },
    {
      "cell_type": "markdown",
      "source": [
        "#16.Write a code to create a set with the elements 1, 2, 3, 4, 5 and print it.\n",
        "\n"
      ],
      "metadata": {
        "id": "4ir33bftskUS"
      }
    },
    {
      "cell_type": "code",
      "source": [
        "# Creating a set\n",
        "my_set = {1, 2, 3, 4, 5}\n",
        "\n",
        "# Printing the set\n",
        "print(\"The set is:\", my_set)"
      ],
      "metadata": {
        "colab": {
          "base_uri": "https://localhost:8080/"
        },
        "id": "kwpUGBYhsyNq",
        "outputId": "0e4970a3-416f-436b-cb5d-ab6d50225fe0"
      },
      "execution_count": 20,
      "outputs": [
        {
          "output_type": "stream",
          "name": "stdout",
          "text": [
            "The set is: {1, 2, 3, 4, 5}\n"
          ]
        }
      ]
    },
    {
      "cell_type": "markdown",
      "source": [
        "#17. Write a code to add the element 6 to the set {1, 2, 3, 4} ?"
      ],
      "metadata": {
        "id": "a3_I0qRcs5Pj"
      }
    },
    {
      "cell_type": "code",
      "source": [
        "# Defining the set\n",
        "my_set = {1, 2, 3, 4}\n",
        "\n",
        "# Adding the element 6\n",
        "my_set.add(6)\n",
        "\n",
        "# Printing the updated set\n",
        "print(\"Updated set:\", my_set)"
      ],
      "metadata": {
        "colab": {
          "base_uri": "https://localhost:8080/"
        },
        "id": "GDyN8d5EtBpc",
        "outputId": "a524103e-0c2e-45ee-8015-15f7a8cb4e3e"
      },
      "execution_count": 21,
      "outputs": [
        {
          "output_type": "stream",
          "name": "stdout",
          "text": [
            "Updated set: {1, 2, 3, 4, 6}\n"
          ]
        }
      ]
    },
    {
      "cell_type": "markdown",
      "source": [
        "#18.Write a code to create a tuple with the elements 10, 20, 30 and print it."
      ],
      "metadata": {
        "id": "dEEKdKoitPwP"
      }
    },
    {
      "cell_type": "code",
      "source": [
        "# Creating a tuple\n",
        "my_tuple = (10, 20, 30)\n",
        "\n",
        "# Printing the tuple\n",
        "print(\"The tuple is:\", my_tuple)"
      ],
      "metadata": {
        "colab": {
          "base_uri": "https://localhost:8080/"
        },
        "id": "qsRv4RgCtWzW",
        "outputId": "884dd5f2-a0fd-43d6-845a-72896afe9124"
      },
      "execution_count": 2,
      "outputs": [
        {
          "output_type": "stream",
          "name": "stdout",
          "text": [
            "The tuple is: (10, 20, 30)\n"
          ]
        }
      ]
    },
    {
      "cell_type": "markdown",
      "source": [
        "#19.Write a code to access the first element of the tuple ('apple', 'banana', 'cherry')?"
      ],
      "metadata": {
        "id": "k6ZxI04DuDXY"
      }
    },
    {
      "cell_type": "code",
      "source": [
        "# Defining the tuple\n",
        "my_tuple = ('apple', 'banana', 'cherry')\n",
        "\n",
        "# Accessing the first element (index 0)\n",
        "first_element = my_tuple[0]\n",
        "\n",
        "# Printing the first element\n",
        "print(\"The first element is:\", first_element)"
      ],
      "metadata": {
        "colab": {
          "base_uri": "https://localhost:8080/"
        },
        "id": "Kw6brdvhuMI2",
        "outputId": "145b9439-571a-43cd-a7e5-4594d5a2d5d6"
      },
      "execution_count": 1,
      "outputs": [
        {
          "output_type": "stream",
          "name": "stdout",
          "text": [
            "The first element is: apple\n"
          ]
        }
      ]
    },
    {
      "cell_type": "markdown",
      "source": [
        "#20.. Write a code to count how many times the number 2 appears in the tuple (1, 2, 3, 2, 4, 2)?"
      ],
      "metadata": {
        "id": "f2xjU6NCwSXB"
      }
    },
    {
      "cell_type": "code",
      "source": [
        "# Defining the tuple\n",
        "my_tuple = (1, 2, 3, 2, 4, 2)\n",
        "\n",
        "# Counting occurrences of the number 2\n",
        "count_of_two = my_tuple.count(2)\n",
        "\n",
        "# Printing the result\n",
        "print(\"The number 2 appears\", count_of_two, \"times in the tuple.\")"
      ],
      "metadata": {
        "colab": {
          "base_uri": "https://localhost:8080/"
        },
        "id": "w_JITTkewZ3y",
        "outputId": "f5111641-5bb5-4f89-f131-961bf7909f1c"
      },
      "execution_count": 22,
      "outputs": [
        {
          "output_type": "stream",
          "name": "stdout",
          "text": [
            "The number 2 appears 3 times in the tuple.\n"
          ]
        }
      ]
    },
    {
      "cell_type": "markdown",
      "source": [
        "#21. Write a code to find the index of the element \"cat\" in the tuple ('dog', 'cat', 'rabbit') ?"
      ],
      "metadata": {
        "id": "nVxyzrYFwq8A"
      }
    },
    {
      "cell_type": "code",
      "source": [
        "# Defining the tuple\n",
        "my_tuple = ('dog', 'cat', 'rabbit')\n",
        "\n",
        "# Finding the index of \"cat\"\n",
        "index_of_cat = my_tuple.index('cat')\n",
        "\n",
        "# Printing the index\n",
        "print(\"The index of 'cat' is:\", index_of_cat)"
      ],
      "metadata": {
        "colab": {
          "base_uri": "https://localhost:8080/"
        },
        "id": "JT9Tf5pOw9hN",
        "outputId": "08c7c8ee-f158-412f-e2f7-b1dfdbfd8022"
      },
      "execution_count": 24,
      "outputs": [
        {
          "output_type": "stream",
          "name": "stdout",
          "text": [
            "The index of 'cat' is: 1\n"
          ]
        }
      ]
    },
    {
      "cell_type": "markdown",
      "source": [
        "#22. Write a code to check if the element \"banana\" is in the tuple ('apple', 'orange', 'banana')."
      ],
      "metadata": {
        "id": "P1DTOZxYxFMW"
      }
    },
    {
      "cell_type": "code",
      "source": [
        "# Defining the tuple\n",
        "my_tuple = ('apple', 'orange', 'banana')\n",
        "\n",
        "# Checking if \"banana\" is in the tuple\n",
        "if \"banana\" in my_tuple:\n",
        "    print(\"'banana' is in the tuple.\")\n",
        "else:\n",
        "    print(\"'banana' is not in the tuple.\")"
      ],
      "metadata": {
        "colab": {
          "base_uri": "https://localhost:8080/"
        },
        "id": "kc4W2AmOxPVD",
        "outputId": "252b992c-837e-4adc-c25e-9aae96ba0b5e"
      },
      "execution_count": 25,
      "outputs": [
        {
          "output_type": "stream",
          "name": "stdout",
          "text": [
            "'banana' is in the tuple.\n"
          ]
        }
      ]
    },
    {
      "cell_type": "markdown",
      "source": [
        "#23. Write a code to create a set with the elements 1, 2, 3, 4, 5 and print it."
      ],
      "metadata": {
        "id": "gqleoFgexR-s"
      }
    },
    {
      "cell_type": "code",
      "source": [
        "# Creating a set\n",
        "my_set = {1, 2, 3, 4, 5}\n",
        "\n",
        "# Printing the set\n",
        "print(\"The set is:\", my_set)"
      ],
      "metadata": {
        "colab": {
          "base_uri": "https://localhost:8080/"
        },
        "id": "cHD5EqOcxcZN",
        "outputId": "2c307380-b783-4743-d784-ad4f3189eb89"
      },
      "execution_count": 26,
      "outputs": [
        {
          "output_type": "stream",
          "name": "stdout",
          "text": [
            "The set is: {1, 2, 3, 4, 5}\n"
          ]
        }
      ]
    },
    {
      "cell_type": "markdown",
      "source": [
        "#24.Write a code to add the element 6 to the set {1, 2, 3, 4}."
      ],
      "metadata": {
        "id": "kgNPHRs1xeWH"
      }
    },
    {
      "cell_type": "code",
      "source": [
        "# Defining the set\n",
        "my_set = {1, 2, 3, 4}\n",
        "\n",
        "# Adding the element 6 to the set\n",
        "my_set.add(6)\n",
        "\n",
        "# Printing the updated set\n",
        "print(\"Updated set:\", my_set)"
      ],
      "metadata": {
        "colab": {
          "base_uri": "https://localhost:8080/"
        },
        "id": "00Ks2FAkxopR",
        "outputId": "9471f622-1b17-43f7-f534-050ed86d73da"
      },
      "execution_count": 27,
      "outputs": [
        {
          "output_type": "stream",
          "name": "stdout",
          "text": [
            "Updated set: {1, 2, 3, 4, 6}\n"
          ]
        }
      ]
    }
  ],
  "metadata": {
    "colab": {
      "provenance": []
    },
    "kernelspec": {
      "display_name": "Python 3",
      "name": "python3"
    }
  },
  "nbformat": 4,
  "nbformat_minor": 0
}